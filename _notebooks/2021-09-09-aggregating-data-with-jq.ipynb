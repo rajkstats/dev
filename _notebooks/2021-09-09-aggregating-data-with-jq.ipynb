{
 "cells": [
  {
   "cell_type": "markdown",
   "source": [
    "# Aggregating GH Archive Data with jq\n",
    "\n",
    "- toc: false\n",
    "- badges: false\n",
    "- comments: true\n",
    "- sticky_rank: 1\n",
    "- author: \"<a href='https://twitter.com/rajkstats'>Raj Kumar</a>\"\n",
    "- description: \"Tutorial on how to aggregate json data with jq\"\n",
    "- image: /images/copied_from_nb/agg-data-with-jq/blog-head.png\n",
    "- categories: [jq, bash]"
   ],
   "metadata": {}
  },
  {
   "cell_type": "markdown",
   "source": [
    "<img src=\"agg-data-with-jq/blog-head.png\" width=\"700\" height=\"400\"/>\n",
    "\n",
    "## Motivation\n",
    "Transforming the raw data into a shape that's ready for analytics\n",
    "\n",
    "## Goal\n",
    "In this tutorial, we will be working with **GH Archive data** which is in `JSON` format, so before we move forward, we will provide some background on the source and dataset in the next section taken. End goal of this tutorial is to be able to write a bash script which should be able to aggregate the github raw logs using the fields of interest. \n",
    "\n",
    "## What is jq?\n",
    " - [jq](https://stedolan.github.io/jq/) is a lightweight and flexible command-line JSON processor.\n",
    "\n",
    "- jq is like `sed` for JSON data - you can use it to slice and filter and map and transform structured data with the same ease that `sed`, `awk`, `grep` that lets you play with text.\n",
    "\n",
    "- jq can mangle the data format that you have into the one that you want with very little effort, and the program to do so is often shorter and simpler than you'd expect"
   ],
   "metadata": {}
  },
  {
   "cell_type": "markdown",
   "source": [
    "This command line processor becomes very handy for folks who works with json data. "
   ],
   "metadata": {}
  },
  {
   "cell_type": "markdown",
   "source": [
    "## Installation\n",
    "jq is written in C and has no runtime dependencies, so it should be possible to build it for nearly any platform. Prebuilt binaries are available for Linux, OS X and Windows.\n",
    "\n",
    "[Download here](https://stedolan.github.io/jq/download/)\n",
    "\n",
    "**Credits**:[Stephen Dolan](https://stedolan.github.io/jq/)"
   ],
   "metadata": {}
  },
  {
   "cell_type": "markdown",
   "source": [
    "To confirm the installation, type the following in terminal:"
   ],
   "metadata": {}
  },
  {
   "cell_type": "code",
   "execution_count": 19,
   "source": [
    "!jq --version"
   ],
   "outputs": [
    {
     "output_type": "stream",
     "name": "stdout",
     "text": [
      "jq-1.6\n"
     ]
    }
   ],
   "metadata": {}
  },
  {
   "cell_type": "markdown",
   "source": [
    ">Important: Before we move forward, I would like to highlight here that anywhere you see '!','%' in the code has been done only for notebooks, remove it if you're not working with notebooks"
   ],
   "metadata": {}
  },
  {
   "cell_type": "markdown",
   "source": [
    "## Download Dataset\n",
    "\n",
    "**Data Source**: [GH Archive](https://www.gharchive.org/)\n",
    "\n",
    "- GH Archive is an open source project to record the public GitHub timeline, archive it, and make it easily accessible for further analysis\n",
    "- GitHub provides 20+ event types, which range from new commits and fork events, to opening new tickets, commenting, and adding members to a project. These events are aggregated into hourly archives\n",
    "- Each archive contains JSON encoded events as reported by the GitHub API. You can download the raw data and apply own processing to it - e.g. write a custom aggregation script, import it into a database, and so on!"
   ],
   "metadata": {}
  },
  {
   "cell_type": "markdown",
   "source": [
    "We will download one hour data, simply go to your terminal and follow the following steps "
   ],
   "metadata": {}
  },
  {
   "cell_type": "code",
   "execution_count": 13,
   "source": [
    "%cd /Users/raj/Desktop/agg-data-with-jq/00_data/ \n",
    "! wget https://data.gharchive.org/2021-09-01-15.json.gz"
   ],
   "outputs": [
    {
     "output_type": "stream",
     "name": "stdout",
     "text": [
      "/Users/raj/Desktop/agg-data-with-jq/00_data\n",
      "--2021-09-11 16:30:29--  https://data.gharchive.org/2021-09-01-15.json.gz\n",
      "Resolving data.gharchive.org (data.gharchive.org)... 172.67.168.206, 104.21.46.175\n",
      "Connecting to data.gharchive.org (data.gharchive.org)|172.67.168.206|:443... connected.\n",
      "HTTP request sent, awaiting response... 200 OK\n",
      "Length: 106793608 (102M) [application/gzip]\n",
      "Saving to: ‘2021-09-01-15.json.gz.1’\n",
      "\n",
      "2021-09-01-15.json. 100%[===================>] 101.85M  40.8MB/s    in 2.5s    \n",
      "\n",
      "2021-09-11 16:30:31 (40.8 MB/s) - ‘2021-09-01-15.json.gz.1’ saved [106793608/106793608]\n",
      "\n"
     ]
    }
   ],
   "metadata": {}
  },
  {
   "cell_type": "markdown",
   "source": [
    ">Tip: You can edit the yyyy-mm-dd-hh format in `wget` command, depending upon which timeline you're interested in exploring"
   ],
   "metadata": {}
  },
  {
   "cell_type": "markdown",
   "source": [
    "> Note: This is gzip json compressed file"
   ],
   "metadata": {}
  },
  {
   "cell_type": "markdown",
   "source": [
    "## Built in Operators and Functions\n",
    "\n",
    "1. **Dot(`.`)**\n",
    "2. **pipe `|`**\n",
    "3. **array operator `[]`**\n",
    "4. **Output a CSV: `@csv`**\n",
    "5. **Array and Object Construction: `[]` and `{}`**\n",
    "6. **Filter `select()`**\n",
    "7. **Apply a filter or function to an array `map()`** \n",
    "8. **Unique**\n",
    "9. **length**\n",
    "10. **group_by**"
   ],
   "metadata": {}
  },
  {
   "cell_type": "markdown",
   "source": [
    ">Note: There is lot more in the [jq manual](https://stedolan.github.io/jq/manual/#Builtinoperatorsandfunctions) for you to look at."
   ],
   "metadata": {}
  },
  {
   "cell_type": "markdown",
   "source": [
    "Now again, switch back to your terminal to explore the raw data with jq"
   ],
   "metadata": {}
  },
  {
   "cell_type": "markdown",
   "source": [
    "Reading a gzipped JSON file (printing only one record) and invoking jq on top of it"
   ],
   "metadata": {}
  },
  {
   "cell_type": "markdown",
   "source": [
    "**1. Dot(`.`)**\n",
    "\n",
    "jq . leaves the output unmodified. This is the basic operator and also useful when you're looking to prettify your json to be able to bring it in the readable format"
   ],
   "metadata": {}
  },
  {
   "cell_type": "code",
   "execution_count": null,
   "source": [
    "! gzip -q -d -c 2021-09-01-15.json.gz | head -n 1 | jq ."
   ],
   "outputs": [
    {
     "output_type": "stream",
     "name": "stdout",
     "text": [
      "\u001b[1;39m{\n",
      "  \u001b[0m\u001b[34;1m\"id\"\u001b[0m\u001b[1;39m: \u001b[0m\u001b[0;32m\"17808292672\"\u001b[0m\u001b[1;39m,\n",
      "  \u001b[0m\u001b[34;1m\"type\"\u001b[0m\u001b[1;39m: \u001b[0m\u001b[0;32m\"PushEvent\"\u001b[0m\u001b[1;39m,\n",
      "  \u001b[0m\u001b[34;1m\"actor\"\u001b[0m\u001b[1;39m: \u001b[0m\u001b[1;39m{\n",
      "    \u001b[0m\u001b[34;1m\"id\"\u001b[0m\u001b[1;39m: \u001b[0m\u001b[0;39m10745044\u001b[0m\u001b[1;39m,\n",
      "    \u001b[0m\u001b[34;1m\"login\"\u001b[0m\u001b[1;39m: \u001b[0m\u001b[0;32m\"moises-santillan\"\u001b[0m\u001b[1;39m,\n",
      "    \u001b[0m\u001b[34;1m\"display_login\"\u001b[0m\u001b[1;39m: \u001b[0m\u001b[0;32m\"moises-santillan\"\u001b[0m\u001b[1;39m,\n",
      "    \u001b[0m\u001b[34;1m\"gravatar_id\"\u001b[0m\u001b[1;39m: \u001b[0m\u001b[0;32m\"\"\u001b[0m\u001b[1;39m,\n",
      "    \u001b[0m\u001b[34;1m\"url\"\u001b[0m\u001b[1;39m: \u001b[0m\u001b[0;32m\"https://api.github.com/users/moises-santillan\"\u001b[0m\u001b[1;39m,\n",
      "    \u001b[0m\u001b[34;1m\"avatar_url\"\u001b[0m\u001b[1;39m: \u001b[0m\u001b[0;32m\"https://avatars.githubusercontent.com/u/10745044?\"\u001b[0m\u001b[1;39m\n",
      "  \u001b[1;39m}\u001b[0m\u001b[1;39m,\n",
      "  \u001b[0m\u001b[34;1m\"repo\"\u001b[0m\u001b[1;39m: \u001b[0m\u001b[1;39m{\n",
      "    \u001b[0m\u001b[34;1m\"id\"\u001b[0m\u001b[1;39m: \u001b[0m\u001b[0;39m271635192\u001b[0m\u001b[1;39m,\n",
      "    \u001b[0m\u001b[34;1m\"name\"\u001b[0m\u001b[1;39m: \u001b[0m\u001b[0;32m\"moises-santillan/covid-19-mexico\"\u001b[0m\u001b[1;39m,\n",
      "    \u001b[0m\u001b[34;1m\"url\"\u001b[0m\u001b[1;39m: \u001b[0m\u001b[0;32m\"https://api.github.com/repos/moises-santillan/covid-19-mexico\"\u001b[0m\u001b[1;39m\n",
      "  \u001b[1;39m}\u001b[0m\u001b[1;39m,\n",
      "  \u001b[0m\u001b[34;1m\"payload\"\u001b[0m\u001b[1;39m: \u001b[0m\u001b[1;39m{\n",
      "    \u001b[0m\u001b[34;1m\"push_id\"\u001b[0m\u001b[1;39m: \u001b[0m\u001b[0;39m7844628061\u001b[0m\u001b[1;39m,\n",
      "    \u001b[0m\u001b[34;1m\"size\"\u001b[0m\u001b[1;39m: \u001b[0m\u001b[0;39m1\u001b[0m\u001b[1;39m,\n",
      "    \u001b[0m\u001b[34;1m\"distinct_size\"\u001b[0m\u001b[1;39m: \u001b[0m\u001b[0;39m1\u001b[0m\u001b[1;39m,\n",
      "    \u001b[0m\u001b[34;1m\"ref\"\u001b[0m\u001b[1;39m: \u001b[0m\u001b[0;32m\"refs/heads/master\"\u001b[0m\u001b[1;39m,\n",
      "    \u001b[0m\u001b[34;1m\"head\"\u001b[0m\u001b[1;39m: \u001b[0m\u001b[0;32m\"e0dbca5c7f20d224377e6b25cbe1b7d165ce75f4\"\u001b[0m\u001b[1;39m,\n",
      "    \u001b[0m\u001b[34;1m\"before\"\u001b[0m\u001b[1;39m: \u001b[0m\u001b[0;32m\"cf3de81ab4584c0dcdbbee3e42bbeafc2d4b0c94\"\u001b[0m\u001b[1;39m,\n",
      "    \u001b[0m\u001b[34;1m\"commits\"\u001b[0m\u001b[1;39m: \u001b[0m\u001b[1;39m[\n",
      "      \u001b[1;39m{\n",
      "        \u001b[0m\u001b[34;1m\"sha\"\u001b[0m\u001b[1;39m: \u001b[0m\u001b[0;32m\"e0dbca5c7f20d224377e6b25cbe1b7d165ce75f4\"\u001b[0m\u001b[1;39m,\n",
      "        \u001b[0m\u001b[34;1m\"author\"\u001b[0m\u001b[1;39m: \u001b[0m\u001b[1;39m{\n",
      "          \u001b[0m\u001b[34;1m\"name\"\u001b[0m\u001b[1;39m: \u001b[0m\u001b[0;32m\"Moisés Santillán\"\u001b[0m\u001b[1;39m,\n",
      "          \u001b[0m\u001b[34;1m\"email\"\u001b[0m\u001b[1;39m: \u001b[0m\u001b[0;32m\"1b8f84bbb29551654b9a5d0b48cb0e5ec103b514@cinvestav.mx\"\u001b[0m\u001b[1;39m\n",
      "        \u001b[1;39m}\u001b[0m\u001b[1;39m,\n",
      "        \u001b[0m\u001b[34;1m\"message\"\u001b[0m\u001b[1;39m: \u001b[0m\u001b[0;32m\"$\"\u001b[0m\u001b[1;39m,\n",
      "        \u001b[0m\u001b[34;1m\"distinct\"\u001b[0m\u001b[1;39m: \u001b[0m\u001b[0;39mtrue\u001b[0m\u001b[1;39m,\n",
      "        \u001b[0m\u001b[34;1m\"url\"\u001b[0m\u001b[1;39m: \u001b[0m\u001b[0;32m\"https://api.github.com/repos/moises-santillan/covid-19-mexico/commits/e0dbca5c7f20d224377e6b25cbe1b7d165ce75f4\"\u001b[0m\u001b[1;39m\n",
      "      \u001b[1;39m}\u001b[0m\u001b[1;39m\n",
      "    \u001b[1;39m]\u001b[0m\u001b[1;39m\n",
      "  \u001b[1;39m}\u001b[0m\u001b[1;39m,\n",
      "  \u001b[0m\u001b[34;1m\"public\"\u001b[0m\u001b[1;39m: \u001b[0m\u001b[0;39mtrue\u001b[0m\u001b[1;39m,\n",
      "  \u001b[0m\u001b[34;1m\"created_at\"\u001b[0m\u001b[1;39m: \u001b[0m\u001b[0;32m\"2021-09-01T15:00:00Z\"\u001b[0m\u001b[1;39m\n",
      "\u001b[1;39m}\u001b[0m\n"
     ]
    }
   ],
   "metadata": {}
  },
  {
   "cell_type": "markdown",
   "source": [
    "You can use dot(.) operator to access one of the keys in json"
   ],
   "metadata": {}
  },
  {
   "cell_type": "code",
   "execution_count": 33,
   "source": [
    "! gzip -q -d -c 2021-09-01-15.json.gz | head -n 1| jq .id"
   ],
   "outputs": [
    {
     "output_type": "stream",
     "name": "stdout",
     "text": [
      "\u001b[0;32m\"17808292672\"\u001b[0m\n"
     ]
    }
   ],
   "metadata": {}
  },
  {
   "cell_type": "markdown",
   "source": [
    "Also, chaining the key with its nested key allows to access nested object"
   ],
   "metadata": {}
  },
  {
   "cell_type": "code",
   "execution_count": 35,
   "source": [
    "! gzip -q -d -c 2021-09-01-15.json.gz | head -n 1| jq .repo.name"
   ],
   "outputs": [
    {
     "output_type": "stream",
     "name": "stdout",
     "text": [
      "\u001b[0;32m\"moises-santillan/covid-19-mexico\"\u001b[0m\n"
     ]
    }
   ],
   "metadata": {}
  },
  {
   "cell_type": "markdown",
   "source": [
    "**2. pipe operator `|`** : You can use pipe and several operators together in jq for any complex transformations in your data"
   ],
   "metadata": {}
  },
  {
   "cell_type": "code",
   "execution_count": 74,
   "source": [
    "! gzip -q -d -c 2021-09-01-15.json.gz | head -n 5| jq .type"
   ],
   "outputs": [
    {
     "output_type": "stream",
     "name": "stdout",
     "text": [
      "\u001b[0;32m\"PushEvent\"\u001b[0m\n",
      "\u001b[0;32m\"PullRequestEvent\"\u001b[0m\n",
      "\u001b[0;32m\"DeleteEvent\"\u001b[0m\n",
      "\u001b[0;32m\"WatchEvent\"\u001b[0m\n",
      "\u001b[0;32m\"PushEvent\"\u001b[0m\n"
     ]
    }
   ],
   "metadata": {}
  },
  {
   "cell_type": "markdown",
   "source": [
    "**3. array operator `[]`** : This operator is particularly useful in cases when you want to represent a list of github events (JSON) in this case."
   ],
   "metadata": {}
  },
  {
   "cell_type": "markdown",
   "source": [
    "Following is the method you can use to create a list of github events in JSON"
   ],
   "metadata": {}
  },
  {
   "cell_type": "code",
   "execution_count": 39,
   "source": [
    "! gzip -q -d -c 2021-09-01-15.json.gz | head -n 1 | jq '[.]'  "
   ],
   "outputs": [
    {
     "output_type": "stream",
     "name": "stdout",
     "text": [
      "\u001b[1;39m[\n",
      "  \u001b[1;39m{\n",
      "    \u001b[0m\u001b[34;1m\"id\"\u001b[0m\u001b[1;39m: \u001b[0m\u001b[0;32m\"17808292672\"\u001b[0m\u001b[1;39m,\n",
      "    \u001b[0m\u001b[34;1m\"type\"\u001b[0m\u001b[1;39m: \u001b[0m\u001b[0;32m\"PushEvent\"\u001b[0m\u001b[1;39m,\n",
      "    \u001b[0m\u001b[34;1m\"actor\"\u001b[0m\u001b[1;39m: \u001b[0m\u001b[1;39m{\n",
      "      \u001b[0m\u001b[34;1m\"id\"\u001b[0m\u001b[1;39m: \u001b[0m\u001b[0;39m10745044\u001b[0m\u001b[1;39m,\n",
      "      \u001b[0m\u001b[34;1m\"login\"\u001b[0m\u001b[1;39m: \u001b[0m\u001b[0;32m\"moises-santillan\"\u001b[0m\u001b[1;39m,\n",
      "      \u001b[0m\u001b[34;1m\"display_login\"\u001b[0m\u001b[1;39m: \u001b[0m\u001b[0;32m\"moises-santillan\"\u001b[0m\u001b[1;39m,\n",
      "      \u001b[0m\u001b[34;1m\"gravatar_id\"\u001b[0m\u001b[1;39m: \u001b[0m\u001b[0;32m\"\"\u001b[0m\u001b[1;39m,\n",
      "      \u001b[0m\u001b[34;1m\"url\"\u001b[0m\u001b[1;39m: \u001b[0m\u001b[0;32m\"https://api.github.com/users/moises-santillan\"\u001b[0m\u001b[1;39m,\n",
      "      \u001b[0m\u001b[34;1m\"avatar_url\"\u001b[0m\u001b[1;39m: \u001b[0m\u001b[0;32m\"https://avatars.githubusercontent.com/u/10745044?\"\u001b[0m\u001b[1;39m\n",
      "    \u001b[1;39m}\u001b[0m\u001b[1;39m,\n",
      "    \u001b[0m\u001b[34;1m\"repo\"\u001b[0m\u001b[1;39m: \u001b[0m\u001b[1;39m{\n",
      "      \u001b[0m\u001b[34;1m\"id\"\u001b[0m\u001b[1;39m: \u001b[0m\u001b[0;39m271635192\u001b[0m\u001b[1;39m,\n",
      "      \u001b[0m\u001b[34;1m\"name\"\u001b[0m\u001b[1;39m: \u001b[0m\u001b[0;32m\"moises-santillan/covid-19-mexico\"\u001b[0m\u001b[1;39m,\n",
      "      \u001b[0m\u001b[34;1m\"url\"\u001b[0m\u001b[1;39m: \u001b[0m\u001b[0;32m\"https://api.github.com/repos/moises-santillan/covid-19-mexico\"\u001b[0m\u001b[1;39m\n",
      "    \u001b[1;39m}\u001b[0m\u001b[1;39m,\n",
      "    \u001b[0m\u001b[34;1m\"payload\"\u001b[0m\u001b[1;39m: \u001b[0m\u001b[1;39m{\n",
      "      \u001b[0m\u001b[34;1m\"push_id\"\u001b[0m\u001b[1;39m: \u001b[0m\u001b[0;39m7844628061\u001b[0m\u001b[1;39m,\n",
      "      \u001b[0m\u001b[34;1m\"size\"\u001b[0m\u001b[1;39m: \u001b[0m\u001b[0;39m1\u001b[0m\u001b[1;39m,\n",
      "      \u001b[0m\u001b[34;1m\"distinct_size\"\u001b[0m\u001b[1;39m: \u001b[0m\u001b[0;39m1\u001b[0m\u001b[1;39m,\n",
      "      \u001b[0m\u001b[34;1m\"ref\"\u001b[0m\u001b[1;39m: \u001b[0m\u001b[0;32m\"refs/heads/master\"\u001b[0m\u001b[1;39m,\n",
      "      \u001b[0m\u001b[34;1m\"head\"\u001b[0m\u001b[1;39m: \u001b[0m\u001b[0;32m\"e0dbca5c7f20d224377e6b25cbe1b7d165ce75f4\"\u001b[0m\u001b[1;39m,\n",
      "      \u001b[0m\u001b[34;1m\"before\"\u001b[0m\u001b[1;39m: \u001b[0m\u001b[0;32m\"cf3de81ab4584c0dcdbbee3e42bbeafc2d4b0c94\"\u001b[0m\u001b[1;39m,\n",
      "      \u001b[0m\u001b[34;1m\"commits\"\u001b[0m\u001b[1;39m: \u001b[0m\u001b[1;39m[\n",
      "        \u001b[1;39m{\n",
      "          \u001b[0m\u001b[34;1m\"sha\"\u001b[0m\u001b[1;39m: \u001b[0m\u001b[0;32m\"e0dbca5c7f20d224377e6b25cbe1b7d165ce75f4\"\u001b[0m\u001b[1;39m,\n",
      "          \u001b[0m\u001b[34;1m\"author\"\u001b[0m\u001b[1;39m: \u001b[0m\u001b[1;39m{\n",
      "            \u001b[0m\u001b[34;1m\"name\"\u001b[0m\u001b[1;39m: \u001b[0m\u001b[0;32m\"Moisés Santillán\"\u001b[0m\u001b[1;39m,\n",
      "            \u001b[0m\u001b[34;1m\"email\"\u001b[0m\u001b[1;39m: \u001b[0m\u001b[0;32m\"1b8f84bbb29551654b9a5d0b48cb0e5ec103b514@cinvestav.mx\"\u001b[0m\u001b[1;39m\n",
      "          \u001b[1;39m}\u001b[0m\u001b[1;39m,\n",
      "          \u001b[0m\u001b[34;1m\"message\"\u001b[0m\u001b[1;39m: \u001b[0m\u001b[0;32m\"$\"\u001b[0m\u001b[1;39m,\n",
      "          \u001b[0m\u001b[34;1m\"distinct\"\u001b[0m\u001b[1;39m: \u001b[0m\u001b[0;39mtrue\u001b[0m\u001b[1;39m,\n",
      "          \u001b[0m\u001b[34;1m\"url\"\u001b[0m\u001b[1;39m: \u001b[0m\u001b[0;32m\"https://api.github.com/repos/moises-santillan/covid-19-mexico/commits/e0dbca5c7f20d224377e6b25cbe1b7d165ce75f4\"\u001b[0m\u001b[1;39m\n",
      "        \u001b[1;39m}\u001b[0m\u001b[1;39m\n",
      "      \u001b[1;39m]\u001b[0m\u001b[1;39m\n",
      "    \u001b[1;39m}\u001b[0m\u001b[1;39m,\n",
      "    \u001b[0m\u001b[34;1m\"public\"\u001b[0m\u001b[1;39m: \u001b[0m\u001b[0;39mtrue\u001b[0m\u001b[1;39m,\n",
      "    \u001b[0m\u001b[34;1m\"created_at\"\u001b[0m\u001b[1;39m: \u001b[0m\u001b[0;32m\"2021-09-01T15:00:00Z\"\u001b[0m\u001b[1;39m\n",
      "  \u001b[1;39m}\u001b[0m\u001b[1;39m\n",
      "\u001b[1;39m]\u001b[0m\n"
     ]
    }
   ],
   "metadata": {}
  },
  {
   "cell_type": "markdown",
   "source": [
    "Or you can also create arrays by just selecting few keys "
   ],
   "metadata": {}
  },
  {
   "cell_type": "code",
   "execution_count": 59,
   "source": [
    "! gzip -q -d -c 2021-09-01-15.json.gz | head -n 2 |  jq '[.id, .type, .repo]' "
   ],
   "outputs": [
    {
     "output_type": "stream",
     "name": "stdout",
     "text": [
      "\u001b[1;39m[\n",
      "  \u001b[0;32m\"17808292672\"\u001b[0m\u001b[1;39m,\n",
      "  \u001b[0;32m\"PushEvent\"\u001b[0m\u001b[1;39m,\n",
      "  \u001b[1;39m{\n",
      "    \u001b[0m\u001b[34;1m\"id\"\u001b[0m\u001b[1;39m: \u001b[0m\u001b[0;39m271635192\u001b[0m\u001b[1;39m,\n",
      "    \u001b[0m\u001b[34;1m\"name\"\u001b[0m\u001b[1;39m: \u001b[0m\u001b[0;32m\"moises-santillan/covid-19-mexico\"\u001b[0m\u001b[1;39m,\n",
      "    \u001b[0m\u001b[34;1m\"url\"\u001b[0m\u001b[1;39m: \u001b[0m\u001b[0;32m\"https://api.github.com/repos/moises-santillan/covid-19-mexico\"\u001b[0m\u001b[1;39m\n",
      "  \u001b[1;39m}\u001b[0m\u001b[1;39m\n",
      "\u001b[1;39m]\u001b[0m\n",
      "\u001b[1;39m[\n",
      "  \u001b[0;32m\"17808292724\"\u001b[0m\u001b[1;39m,\n",
      "  \u001b[0;32m\"PullRequestEvent\"\u001b[0m\u001b[1;39m,\n",
      "  \u001b[1;39m{\n",
      "    \u001b[0m\u001b[34;1m\"id\"\u001b[0m\u001b[1;39m: \u001b[0m\u001b[0;39m279965573\u001b[0m\u001b[1;39m,\n",
      "    \u001b[0m\u001b[34;1m\"name\"\u001b[0m\u001b[1;39m: \u001b[0m\u001b[0;32m\"konveyor/forklift-ui\"\u001b[0m\u001b[1;39m,\n",
      "    \u001b[0m\u001b[34;1m\"url\"\u001b[0m\u001b[1;39m: \u001b[0m\u001b[0;32m\"https://api.github.com/repos/konveyor/forklift-ui\"\u001b[0m\u001b[1;39m\n",
      "  \u001b[1;39m}\u001b[0m\u001b[1;39m\n",
      "\u001b[1;39m]\u001b[0m\n"
     ]
    }
   ],
   "metadata": {}
  },
  {
   "cell_type": "markdown",
   "source": [
    "In this case, above record have no keys, this becomes pretty handy when you want to map JSON to a csv file"
   ],
   "metadata": {}
  },
  {
   "cell_type": "markdown",
   "source": [
    "**4. Output a CSV: `@csv`**"
   ],
   "metadata": {}
  },
  {
   "cell_type": "markdown",
   "source": [
    "Before you output to CSV, make sure all the fields have been flattened, otherwise it would throw an error, like the one we see below"
   ],
   "metadata": {}
  },
  {
   "cell_type": "code",
   "execution_count": 61,
   "source": [
    "! gzip -q -d -c 2021-09-01-15.json.gz | head -n 2 |  jq '[.id, .type, .repo]| @csv' "
   ],
   "outputs": [
    {
     "output_type": "stream",
     "name": "stdout",
     "text": [
      "jq: error (at <stdin>:1): object ({\"id\":27163...) is not valid in a csv row\n",
      "jq: error (at <stdin>:2): object ({\"id\":27996...) is not valid in a csv row\n"
     ]
    }
   ],
   "metadata": {}
  },
  {
   "cell_type": "code",
   "execution_count": 64,
   "source": [
    "! gzip -q -d -c 2021-09-01-15.json.gz | head -n 3 | jq '[.id, .type, .repo.id,.repo.name,.repo.url]| @csv' "
   ],
   "outputs": [
    {
     "output_type": "stream",
     "name": "stdout",
     "text": [
      "\u001b[0;32m\"\\\"17808292672\\\",\\\"PushEvent\\\",271635192,\\\"moises-santillan/covid-19-mexico\\\",\\\"https://api.github.com/repos/moises-santillan/covid-19-mexico\\\"\"\u001b[0m\n",
      "\u001b[0;32m\"\\\"17808292724\\\",\\\"PullRequestEvent\\\",279965573,\\\"konveyor/forklift-ui\\\",\\\"https://api.github.com/repos/konveyor/forklift-ui\\\"\"\u001b[0m\n",
      "\u001b[0;32m\"\\\"17808292729\\\",\\\"DeleteEvent\\\",150458335,\\\"openvinotoolkit/model_server\\\",\\\"https://api.github.com/repos/openvinotoolkit/model_server\\\"\"\u001b[0m\n"
     ]
    }
   ],
   "metadata": {}
  },
  {
   "cell_type": "markdown",
   "source": [
    "If you would like to truncate the double quotes in csv file, use the following"
   ],
   "metadata": {}
  },
  {
   "cell_type": "code",
   "execution_count": 65,
   "source": [
    "! gzip -q -d -c 2021-09-01-15.json.gz | head -n 3 | jq '[.id, .type, .repo.id,.repo.name,.repo.url]| @csv' | tr -d '\" '"
   ],
   "outputs": [
    {
     "output_type": "stream",
     "name": "stdout",
     "text": [
      "\\17808292672\\,\\PushEvent\\,271635192,\\moises-santillan/covid-19-mexico\\,\\https://api.github.com/repos/moises-santillan/covid-19-mexico\\\n",
      "\\17808292724\\,\\PullRequestEvent\\,279965573,\\konveyor/forklift-ui\\,\\https://api.github.com/repos/konveyor/forklift-ui\\\n",
      "\\17808292729\\,\\DeleteEvent\\,150458335,\\openvinotoolkit/model_server\\,\\https://api.github.com/repos/openvinotoolkit/model_server\\\n"
     ]
    }
   ],
   "metadata": {}
  },
  {
   "cell_type": "markdown",
   "source": [
    "**5. Array and Object Construction**: `[]` and `{}`**"
   ],
   "metadata": {}
  },
  {
   "cell_type": "markdown",
   "source": [
    "Let's say you want to use only few of the objects in json, there's a way to select few objects and create a new JSON. Following are the two methods:"
   ],
   "metadata": {}
  },
  {
   "cell_type": "code",
   "execution_count": 72,
   "source": [
    "! gzip -q -d -c 2021-09-01-15.json.gz | head -n 2 |  jq '[.id, .type, .repo]' "
   ],
   "outputs": [
    {
     "output_type": "stream",
     "name": "stdout",
     "text": [
      "\u001b[1;39m[\n",
      "  \u001b[0;32m\"17808292672\"\u001b[0m\u001b[1;39m,\n",
      "  \u001b[0;32m\"PushEvent\"\u001b[0m\u001b[1;39m,\n",
      "  \u001b[1;39m{\n",
      "    \u001b[0m\u001b[34;1m\"id\"\u001b[0m\u001b[1;39m: \u001b[0m\u001b[0;39m271635192\u001b[0m\u001b[1;39m,\n",
      "    \u001b[0m\u001b[34;1m\"name\"\u001b[0m\u001b[1;39m: \u001b[0m\u001b[0;32m\"moises-santillan/covid-19-mexico\"\u001b[0m\u001b[1;39m,\n",
      "    \u001b[0m\u001b[34;1m\"url\"\u001b[0m\u001b[1;39m: \u001b[0m\u001b[0;32m\"https://api.github.com/repos/moises-santillan/covid-19-mexico\"\u001b[0m\u001b[1;39m\n",
      "  \u001b[1;39m}\u001b[0m\u001b[1;39m\n",
      "\u001b[1;39m]\u001b[0m\n",
      "\u001b[1;39m[\n",
      "  \u001b[0;32m\"17808292724\"\u001b[0m\u001b[1;39m,\n",
      "  \u001b[0;32m\"PullRequestEvent\"\u001b[0m\u001b[1;39m,\n",
      "  \u001b[1;39m{\n",
      "    \u001b[0m\u001b[34;1m\"id\"\u001b[0m\u001b[1;39m: \u001b[0m\u001b[0;39m279965573\u001b[0m\u001b[1;39m,\n",
      "    \u001b[0m\u001b[34;1m\"name\"\u001b[0m\u001b[1;39m: \u001b[0m\u001b[0;32m\"konveyor/forklift-ui\"\u001b[0m\u001b[1;39m,\n",
      "    \u001b[0m\u001b[34;1m\"url\"\u001b[0m\u001b[1;39m: \u001b[0m\u001b[0;32m\"https://api.github.com/repos/konveyor/forklift-ui\"\u001b[0m\u001b[1;39m\n",
      "  \u001b[1;39m}\u001b[0m\u001b[1;39m\n",
      "\u001b[1;39m]\u001b[0m\n"
     ]
    }
   ],
   "metadata": {}
  },
  {
   "cell_type": "code",
   "execution_count": 70,
   "source": [
    "! gzip -q -d -c 2021-09-01-15.json.gz | head -n 2 |  jq '{id:.id, type: .type, repo: .repo}' "
   ],
   "outputs": [
    {
     "output_type": "stream",
     "name": "stdout",
     "text": [
      "\u001b[1;39m{\n",
      "  \u001b[0m\u001b[34;1m\"id\"\u001b[0m\u001b[1;39m: \u001b[0m\u001b[0;32m\"17808292672\"\u001b[0m\u001b[1;39m,\n",
      "  \u001b[0m\u001b[34;1m\"type\"\u001b[0m\u001b[1;39m: \u001b[0m\u001b[0;32m\"PushEvent\"\u001b[0m\u001b[1;39m,\n",
      "  \u001b[0m\u001b[34;1m\"repo\"\u001b[0m\u001b[1;39m: \u001b[0m\u001b[1;39m{\n",
      "    \u001b[0m\u001b[34;1m\"id\"\u001b[0m\u001b[1;39m: \u001b[0m\u001b[0;39m271635192\u001b[0m\u001b[1;39m,\n",
      "    \u001b[0m\u001b[34;1m\"name\"\u001b[0m\u001b[1;39m: \u001b[0m\u001b[0;32m\"moises-santillan/covid-19-mexico\"\u001b[0m\u001b[1;39m,\n",
      "    \u001b[0m\u001b[34;1m\"url\"\u001b[0m\u001b[1;39m: \u001b[0m\u001b[0;32m\"https://api.github.com/repos/moises-santillan/covid-19-mexico\"\u001b[0m\u001b[1;39m\n",
      "  \u001b[1;39m}\u001b[0m\u001b[1;39m\n",
      "\u001b[1;39m}\u001b[0m\n",
      "\u001b[1;39m{\n",
      "  \u001b[0m\u001b[34;1m\"id\"\u001b[0m\u001b[1;39m: \u001b[0m\u001b[0;32m\"17808292724\"\u001b[0m\u001b[1;39m,\n",
      "  \u001b[0m\u001b[34;1m\"type\"\u001b[0m\u001b[1;39m: \u001b[0m\u001b[0;32m\"PullRequestEvent\"\u001b[0m\u001b[1;39m,\n",
      "  \u001b[0m\u001b[34;1m\"repo\"\u001b[0m\u001b[1;39m: \u001b[0m\u001b[1;39m{\n",
      "    \u001b[0m\u001b[34;1m\"id\"\u001b[0m\u001b[1;39m: \u001b[0m\u001b[0;39m279965573\u001b[0m\u001b[1;39m,\n",
      "    \u001b[0m\u001b[34;1m\"name\"\u001b[0m\u001b[1;39m: \u001b[0m\u001b[0;32m\"konveyor/forklift-ui\"\u001b[0m\u001b[1;39m,\n",
      "    \u001b[0m\u001b[34;1m\"url\"\u001b[0m\u001b[1;39m: \u001b[0m\u001b[0;32m\"https://api.github.com/repos/konveyor/forklift-ui\"\u001b[0m\u001b[1;39m\n",
      "  \u001b[1;39m}\u001b[0m\u001b[1;39m\n",
      "\u001b[1;39m}\u001b[0m\n"
     ]
    }
   ],
   "metadata": {}
  },
  {
   "cell_type": "markdown",
   "source": [
    "**6. `select()`**: select can be used for querying the JSON "
   ],
   "metadata": {}
  },
  {
   "cell_type": "code",
   "execution_count": 107,
   "source": [
    "! gzip -q -d -c 2021-09-01-15.json.gz | head -n 1 | jq  'select(.type==\"PushEvent\" and .actor.login==\"moises-santillan\")'"
   ],
   "outputs": [
    {
     "output_type": "stream",
     "name": "stdout",
     "text": [
      "\u001b[1;39m{\n",
      "  \u001b[0m\u001b[34;1m\"id\"\u001b[0m\u001b[1;39m: \u001b[0m\u001b[0;32m\"17808292672\"\u001b[0m\u001b[1;39m,\n",
      "  \u001b[0m\u001b[34;1m\"type\"\u001b[0m\u001b[1;39m: \u001b[0m\u001b[0;32m\"PushEvent\"\u001b[0m\u001b[1;39m,\n",
      "  \u001b[0m\u001b[34;1m\"actor\"\u001b[0m\u001b[1;39m: \u001b[0m\u001b[1;39m{\n",
      "    \u001b[0m\u001b[34;1m\"id\"\u001b[0m\u001b[1;39m: \u001b[0m\u001b[0;39m10745044\u001b[0m\u001b[1;39m,\n",
      "    \u001b[0m\u001b[34;1m\"login\"\u001b[0m\u001b[1;39m: \u001b[0m\u001b[0;32m\"moises-santillan\"\u001b[0m\u001b[1;39m,\n",
      "    \u001b[0m\u001b[34;1m\"display_login\"\u001b[0m\u001b[1;39m: \u001b[0m\u001b[0;32m\"moises-santillan\"\u001b[0m\u001b[1;39m,\n",
      "    \u001b[0m\u001b[34;1m\"gravatar_id\"\u001b[0m\u001b[1;39m: \u001b[0m\u001b[0;32m\"\"\u001b[0m\u001b[1;39m,\n",
      "    \u001b[0m\u001b[34;1m\"url\"\u001b[0m\u001b[1;39m: \u001b[0m\u001b[0;32m\"https://api.github.com/users/moises-santillan\"\u001b[0m\u001b[1;39m,\n",
      "    \u001b[0m\u001b[34;1m\"avatar_url\"\u001b[0m\u001b[1;39m: \u001b[0m\u001b[0;32m\"https://avatars.githubusercontent.com/u/10745044?\"\u001b[0m\u001b[1;39m\n",
      "  \u001b[1;39m}\u001b[0m\u001b[1;39m,\n",
      "  \u001b[0m\u001b[34;1m\"repo\"\u001b[0m\u001b[1;39m: \u001b[0m\u001b[1;39m{\n",
      "    \u001b[0m\u001b[34;1m\"id\"\u001b[0m\u001b[1;39m: \u001b[0m\u001b[0;39m271635192\u001b[0m\u001b[1;39m,\n",
      "    \u001b[0m\u001b[34;1m\"name\"\u001b[0m\u001b[1;39m: \u001b[0m\u001b[0;32m\"moises-santillan/covid-19-mexico\"\u001b[0m\u001b[1;39m,\n",
      "    \u001b[0m\u001b[34;1m\"url\"\u001b[0m\u001b[1;39m: \u001b[0m\u001b[0;32m\"https://api.github.com/repos/moises-santillan/covid-19-mexico\"\u001b[0m\u001b[1;39m\n",
      "  \u001b[1;39m}\u001b[0m\u001b[1;39m,\n",
      "  \u001b[0m\u001b[34;1m\"payload\"\u001b[0m\u001b[1;39m: \u001b[0m\u001b[1;39m{\n",
      "    \u001b[0m\u001b[34;1m\"push_id\"\u001b[0m\u001b[1;39m: \u001b[0m\u001b[0;39m7844628061\u001b[0m\u001b[1;39m,\n",
      "    \u001b[0m\u001b[34;1m\"size\"\u001b[0m\u001b[1;39m: \u001b[0m\u001b[0;39m1\u001b[0m\u001b[1;39m,\n",
      "    \u001b[0m\u001b[34;1m\"distinct_size\"\u001b[0m\u001b[1;39m: \u001b[0m\u001b[0;39m1\u001b[0m\u001b[1;39m,\n",
      "    \u001b[0m\u001b[34;1m\"ref\"\u001b[0m\u001b[1;39m: \u001b[0m\u001b[0;32m\"refs/heads/master\"\u001b[0m\u001b[1;39m,\n",
      "    \u001b[0m\u001b[34;1m\"head\"\u001b[0m\u001b[1;39m: \u001b[0m\u001b[0;32m\"e0dbca5c7f20d224377e6b25cbe1b7d165ce75f4\"\u001b[0m\u001b[1;39m,\n",
      "    \u001b[0m\u001b[34;1m\"before\"\u001b[0m\u001b[1;39m: \u001b[0m\u001b[0;32m\"cf3de81ab4584c0dcdbbee3e42bbeafc2d4b0c94\"\u001b[0m\u001b[1;39m,\n",
      "    \u001b[0m\u001b[34;1m\"commits\"\u001b[0m\u001b[1;39m: \u001b[0m\u001b[1;39m[\n",
      "      \u001b[1;39m{\n",
      "        \u001b[0m\u001b[34;1m\"sha\"\u001b[0m\u001b[1;39m: \u001b[0m\u001b[0;32m\"e0dbca5c7f20d224377e6b25cbe1b7d165ce75f4\"\u001b[0m\u001b[1;39m,\n",
      "        \u001b[0m\u001b[34;1m\"author\"\u001b[0m\u001b[1;39m: \u001b[0m\u001b[1;39m{\n",
      "          \u001b[0m\u001b[34;1m\"name\"\u001b[0m\u001b[1;39m: \u001b[0m\u001b[0;32m\"Moisés Santillán\"\u001b[0m\u001b[1;39m,\n",
      "          \u001b[0m\u001b[34;1m\"email\"\u001b[0m\u001b[1;39m: \u001b[0m\u001b[0;32m\"1b8f84bbb29551654b9a5d0b48cb0e5ec103b514@cinvestav.mx\"\u001b[0m\u001b[1;39m\n",
      "        \u001b[1;39m}\u001b[0m\u001b[1;39m,\n",
      "        \u001b[0m\u001b[34;1m\"message\"\u001b[0m\u001b[1;39m: \u001b[0m\u001b[0;32m\"$\"\u001b[0m\u001b[1;39m,\n",
      "        \u001b[0m\u001b[34;1m\"distinct\"\u001b[0m\u001b[1;39m: \u001b[0m\u001b[0;39mtrue\u001b[0m\u001b[1;39m,\n",
      "        \u001b[0m\u001b[34;1m\"url\"\u001b[0m\u001b[1;39m: \u001b[0m\u001b[0;32m\"https://api.github.com/repos/moises-santillan/covid-19-mexico/commits/e0dbca5c7f20d224377e6b25cbe1b7d165ce75f4\"\u001b[0m\u001b[1;39m\n",
      "      \u001b[1;39m}\u001b[0m\u001b[1;39m\n",
      "    \u001b[1;39m]\u001b[0m\u001b[1;39m\n",
      "  \u001b[1;39m}\u001b[0m\u001b[1;39m,\n",
      "  \u001b[0m\u001b[34;1m\"public\"\u001b[0m\u001b[1;39m: \u001b[0m\u001b[0;39mtrue\u001b[0m\u001b[1;39m,\n",
      "  \u001b[0m\u001b[34;1m\"created_at\"\u001b[0m\u001b[1;39m: \u001b[0m\u001b[0;32m\"2021-09-01T15:00:00Z\"\u001b[0m\u001b[1;39m\n",
      "\u001b[1;39m}\u001b[0m\n"
     ]
    }
   ],
   "metadata": {}
  },
  {
   "cell_type": "markdown",
   "source": [
    "**7. Apply a filter or function to an array `map()`** : To collapse lists to a single top level element"
   ],
   "metadata": {}
  },
  {
   "cell_type": "code",
   "execution_count": 54,
   "source": [
    "! gzip -q -d -c 2021-09-01-15.json.gz | head -n 5| jq -s 'map(.type)'"
   ],
   "outputs": [
    {
     "output_type": "stream",
     "name": "stdout",
     "text": [
      "\u001b[1;39m[\n",
      "  \u001b[0;32m\"PushEvent\"\u001b[0m\u001b[1;39m,\n",
      "  \u001b[0;32m\"PullRequestEvent\"\u001b[0m\u001b[1;39m,\n",
      "  \u001b[0;32m\"DeleteEvent\"\u001b[0m\u001b[1;39m,\n",
      "  \u001b[0;32m\"WatchEvent\"\u001b[0m\u001b[1;39m,\n",
      "  \u001b[0;32m\"PushEvent\"\u001b[0m\u001b[1;39m\n",
      "\u001b[1;39m]\u001b[0m\n"
     ]
    }
   ],
   "metadata": {}
  },
  {
   "cell_type": "markdown",
   "source": [
    "**8. `unique`**"
   ],
   "metadata": {}
  },
  {
   "cell_type": "code",
   "execution_count": 53,
   "source": [
    "! gzip -q -d -c 2021-09-01-15.json.gz |  jq -s 'map(.type) | unique'"
   ],
   "outputs": [
    {
     "output_type": "stream",
     "name": "stdout",
     "text": [
      "\u001b[1;39m[\n",
      "  \u001b[0;32m\"CommitCommentEvent\"\u001b[0m\u001b[1;39m,\n",
      "  \u001b[0;32m\"CreateEvent\"\u001b[0m\u001b[1;39m,\n",
      "  \u001b[0;32m\"DeleteEvent\"\u001b[0m\u001b[1;39m,\n",
      "  \u001b[0;32m\"ForkEvent\"\u001b[0m\u001b[1;39m,\n",
      "  \u001b[0;32m\"GollumEvent\"\u001b[0m\u001b[1;39m,\n",
      "  \u001b[0;32m\"IssueCommentEvent\"\u001b[0m\u001b[1;39m,\n",
      "  \u001b[0;32m\"IssuesEvent\"\u001b[0m\u001b[1;39m,\n",
      "  \u001b[0;32m\"MemberEvent\"\u001b[0m\u001b[1;39m,\n",
      "  \u001b[0;32m\"PublicEvent\"\u001b[0m\u001b[1;39m,\n",
      "  \u001b[0;32m\"PullRequestEvent\"\u001b[0m\u001b[1;39m,\n",
      "  \u001b[0;32m\"PullRequestReviewCommentEvent\"\u001b[0m\u001b[1;39m,\n",
      "  \u001b[0;32m\"PullRequestReviewEvent\"\u001b[0m\u001b[1;39m,\n",
      "  \u001b[0;32m\"PushEvent\"\u001b[0m\u001b[1;39m,\n",
      "  \u001b[0;32m\"ReleaseEvent\"\u001b[0m\u001b[1;39m,\n",
      "  \u001b[0;32m\"WatchEvent\"\u001b[0m\u001b[1;39m\n",
      "\u001b[1;39m]\u001b[0m\n"
     ]
    }
   ],
   "metadata": {}
  },
  {
   "cell_type": "markdown",
   "source": [
    "**9. `length`**"
   ],
   "metadata": {}
  },
  {
   "cell_type": "markdown",
   "source": [
    "Here is what length means (taken from docs):\n",
    "\n",
    "- The length of a string is the number of Unicode codepoints it contains (which will be the same as its JSON-encoded length in bytes if it's pure ASCII).\n",
    "\n",
    "- The length of an array is the number of elements.\n",
    "\n",
    "- The length of an object is the number of key-value pairs.\n",
    "\n",
    "- The length of null is zero."
   ],
   "metadata": {}
  },
  {
   "cell_type": "markdown",
   "source": [
    "we have flattened the type list to top level elements and so it would return the number of elements, since it's an array"
   ],
   "metadata": {}
  },
  {
   "cell_type": "code",
   "execution_count": 15,
   "source": [
    "! gzip -q -d -c 2021-09-01-15.json.gz | head -n 3 | jq -s 'map(.type)'"
   ],
   "outputs": [
    {
     "output_type": "stream",
     "name": "stdout",
     "text": [
      "\u001b[1;39m[\n",
      "  \u001b[0;32m\"PushEvent\"\u001b[0m\u001b[1;39m,\n",
      "  \u001b[0;32m\"PullRequestEvent\"\u001b[0m\u001b[1;39m,\n",
      "  \u001b[0;32m\"DeleteEvent\"\u001b[0m\u001b[1;39m\n",
      "\u001b[1;39m]\u001b[0m\n"
     ]
    }
   ],
   "metadata": {}
  },
  {
   "cell_type": "code",
   "execution_count": 17,
   "source": [
    "!gzip -q -d -c 2021-09-01-15.json.gz | head -n 3 | jq -s 'map(.type)| length'"
   ],
   "outputs": [
    {
     "output_type": "stream",
     "name": "stdout",
     "text": [
      "\u001b[0;39m3\u001b[0m\n"
     ]
    }
   ],
   "metadata": {}
  },
  {
   "cell_type": "markdown",
   "source": [
    "**10. `group_by`**: chunk the results into grouped lists"
   ],
   "metadata": {}
  },
  {
   "cell_type": "code",
   "execution_count": 3,
   "source": [
    "! gzip -q -d -c 2021-09-01-15.json.gz | jq -s  'group_by (.type)[] | {type: .[0].type, count: length}'"
   ],
   "outputs": [
    {
     "output_type": "stream",
     "name": "stdout",
     "text": [
      "\u001b[1;39m{\n",
      "  \u001b[0m\u001b[34;1m\"type\"\u001b[0m\u001b[1;39m: \u001b[0m\u001b[0;32m\"CommitCommentEvent\"\u001b[0m\u001b[1;39m,\n",
      "  \u001b[0m\u001b[34;1m\"count\"\u001b[0m\u001b[1;39m: \u001b[0m\u001b[0;39m790\u001b[0m\u001b[1;39m\n",
      "\u001b[1;39m}\u001b[0m\n",
      "\u001b[1;39m{\n",
      "  \u001b[0m\u001b[34;1m\"type\"\u001b[0m\u001b[1;39m: \u001b[0m\u001b[0;32m\"CreateEvent\"\u001b[0m\u001b[1;39m,\n",
      "  \u001b[0m\u001b[34;1m\"count\"\u001b[0m\u001b[1;39m: \u001b[0m\u001b[0;39m24577\u001b[0m\u001b[1;39m\n",
      "\u001b[1;39m}\u001b[0m\n",
      "\u001b[1;39m{\n",
      "  \u001b[0m\u001b[34;1m\"type\"\u001b[0m\u001b[1;39m: \u001b[0m\u001b[0;32m\"DeleteEvent\"\u001b[0m\u001b[1;39m,\n",
      "  \u001b[0m\u001b[34;1m\"count\"\u001b[0m\u001b[1;39m: \u001b[0m\u001b[0;39m7878\u001b[0m\u001b[1;39m\n",
      "\u001b[1;39m}\u001b[0m\n",
      "\u001b[1;39m{\n",
      "  \u001b[0m\u001b[34;1m\"type\"\u001b[0m\u001b[1;39m: \u001b[0m\u001b[0;32m\"ForkEvent\"\u001b[0m\u001b[1;39m,\n",
      "  \u001b[0m\u001b[34;1m\"count\"\u001b[0m\u001b[1;39m: \u001b[0m\u001b[0;39m2803\u001b[0m\u001b[1;39m\n",
      "\u001b[1;39m}\u001b[0m\n",
      "\u001b[1;39m{\n",
      "  \u001b[0m\u001b[34;1m\"type\"\u001b[0m\u001b[1;39m: \u001b[0m\u001b[0;32m\"GollumEvent\"\u001b[0m\u001b[1;39m,\n",
      "  \u001b[0m\u001b[34;1m\"count\"\u001b[0m\u001b[1;39m: \u001b[0m\u001b[0;39m411\u001b[0m\u001b[1;39m\n",
      "\u001b[1;39m}\u001b[0m\n",
      "\u001b[1;39m{\n",
      "  \u001b[0m\u001b[34;1m\"type\"\u001b[0m\u001b[1;39m: \u001b[0m\u001b[0;32m\"IssueCommentEvent\"\u001b[0m\u001b[1;39m,\n",
      "  \u001b[0m\u001b[34;1m\"count\"\u001b[0m\u001b[1;39m: \u001b[0m\u001b[0;39m13276\u001b[0m\u001b[1;39m\n",
      "\u001b[1;39m}\u001b[0m\n",
      "\u001b[1;39m{\n",
      "  \u001b[0m\u001b[34;1m\"type\"\u001b[0m\u001b[1;39m: \u001b[0m\u001b[0;32m\"IssuesEvent\"\u001b[0m\u001b[1;39m,\n",
      "  \u001b[0m\u001b[34;1m\"count\"\u001b[0m\u001b[1;39m: \u001b[0m\u001b[0;39m4377\u001b[0m\u001b[1;39m\n",
      "\u001b[1;39m}\u001b[0m\n",
      "\u001b[1;39m{\n",
      "  \u001b[0m\u001b[34;1m\"type\"\u001b[0m\u001b[1;39m: \u001b[0m\u001b[0;32m\"MemberEvent\"\u001b[0m\u001b[1;39m,\n",
      "  \u001b[0m\u001b[34;1m\"count\"\u001b[0m\u001b[1;39m: \u001b[0m\u001b[0;39m469\u001b[0m\u001b[1;39m\n",
      "\u001b[1;39m}\u001b[0m\n",
      "\u001b[1;39m{\n",
      "  \u001b[0m\u001b[34;1m\"type\"\u001b[0m\u001b[1;39m: \u001b[0m\u001b[0;32m\"PublicEvent\"\u001b[0m\u001b[1;39m,\n",
      "  \u001b[0m\u001b[34;1m\"count\"\u001b[0m\u001b[1;39m: \u001b[0m\u001b[0;39m587\u001b[0m\u001b[1;39m\n",
      "\u001b[1;39m}\u001b[0m\n",
      "\u001b[1;39m{\n",
      "  \u001b[0m\u001b[34;1m\"type\"\u001b[0m\u001b[1;39m: \u001b[0m\u001b[0;32m\"PullRequestEvent\"\u001b[0m\u001b[1;39m,\n",
      "  \u001b[0m\u001b[34;1m\"count\"\u001b[0m\u001b[1;39m: \u001b[0m\u001b[0;39m18561\u001b[0m\u001b[1;39m\n",
      "\u001b[1;39m}\u001b[0m\n",
      "\u001b[1;39m{\n",
      "  \u001b[0m\u001b[34;1m\"type\"\u001b[0m\u001b[1;39m: \u001b[0m\u001b[0;32m\"PullRequestReviewCommentEvent\"\u001b[0m\u001b[1;39m,\n",
      "  \u001b[0m\u001b[34;1m\"count\"\u001b[0m\u001b[1;39m: \u001b[0m\u001b[0;39m3720\u001b[0m\u001b[1;39m\n",
      "\u001b[1;39m}\u001b[0m\n",
      "\u001b[1;39m{\n",
      "  \u001b[0m\u001b[34;1m\"type\"\u001b[0m\u001b[1;39m: \u001b[0m\u001b[0;32m\"PullRequestReviewEvent\"\u001b[0m\u001b[1;39m,\n",
      "  \u001b[0m\u001b[34;1m\"count\"\u001b[0m\u001b[1;39m: \u001b[0m\u001b[0;39m5957\u001b[0m\u001b[1;39m\n",
      "\u001b[1;39m}\u001b[0m\n",
      "\u001b[1;39m{\n",
      "  \u001b[0m\u001b[34;1m\"type\"\u001b[0m\u001b[1;39m: \u001b[0m\u001b[0;32m\"PushEvent\"\u001b[0m\u001b[1;39m,\n",
      "  \u001b[0m\u001b[34;1m\"count\"\u001b[0m\u001b[1;39m: \u001b[0m\u001b[0;39m76918\u001b[0m\u001b[1;39m\n",
      "\u001b[1;39m}\u001b[0m\n",
      "\u001b[1;39m{\n",
      "  \u001b[0m\u001b[34;1m\"type\"\u001b[0m\u001b[1;39m: \u001b[0m\u001b[0;32m\"ReleaseEvent\"\u001b[0m\u001b[1;39m,\n",
      "  \u001b[0m\u001b[34;1m\"count\"\u001b[0m\u001b[1;39m: \u001b[0m\u001b[0;39m1012\u001b[0m\u001b[1;39m\n",
      "\u001b[1;39m}\u001b[0m\n",
      "\u001b[1;39m{\n",
      "  \u001b[0m\u001b[34;1m\"type\"\u001b[0m\u001b[1;39m: \u001b[0m\u001b[0;32m\"WatchEvent\"\u001b[0m\u001b[1;39m,\n",
      "  \u001b[0m\u001b[34;1m\"count\"\u001b[0m\u001b[1;39m: \u001b[0m\u001b[0;39m7398\u001b[0m\u001b[1;39m\n",
      "\u001b[1;39m}\u001b[0m\n"
     ]
    }
   ],
   "metadata": {}
  },
  {
   "cell_type": "markdown",
   "source": [
    "Now that we know enough functions and operators, we can leverage that to write a  statement which would aggregate **GH archive** logs on fields on interest. Let's see how we can do that. We would also look at how to add and delete fields in the aggregated JSON"
   ],
   "metadata": {}
  },
  {
   "cell_type": "markdown",
   "source": [
    "**Aggregating the GH Archive logs**"
   ],
   "metadata": {}
  },
  {
   "cell_type": "markdown",
   "source": [
    "**Adding** date_utc and date_hr two arguments in the JSON below and **deleting** actor_login"
   ],
   "metadata": {}
  },
  {
   "cell_type": "code",
   "execution_count": 85,
   "source": [
    "! gzip -q -d -c 2021-09-01-15.json.gz | head -n 3| jq -c --arg date_utc \"$(date +'%d-%m-%Y')\" --arg date_hr \"$(date)\" '. + {date_utc: $date_utc, date_hr : $date_hr}' |jq -s 'group_by (.date_utc, .date_hr,.actor.login,.repo.name,.type)[] | {\"date_utc\" : .[0].date_utc, \"date_hr\" : .[0].date_hr, \"actor_login\":.[0].actor.login,\"repo_name\":.[0].repo.name,\"type\": .[0].type, count: length}| del(.actor_login)' "
   ],
   "outputs": [
    {
     "output_type": "stream",
     "name": "stdout",
     "text": [
      "\u001b[1;39m{\n",
      "  \u001b[0m\u001b[34;1m\"date_utc\"\u001b[0m\u001b[1;39m: \u001b[0m\u001b[0;32m\"13-09-2021\"\u001b[0m\u001b[1;39m,\n",
      "  \u001b[0m\u001b[34;1m\"date_hr\"\u001b[0m\u001b[1;39m: \u001b[0m\u001b[0;32m\"Mon Sep 13 17:20:46 IST 2021\"\u001b[0m\u001b[1;39m,\n",
      "  \u001b[0m\u001b[34;1m\"actor_login\"\u001b[0m\u001b[1;39m: \u001b[0m\u001b[0;32m\"dtrawins\"\u001b[0m\u001b[1;39m,\n",
      "  \u001b[0m\u001b[34;1m\"repo_name\"\u001b[0m\u001b[1;39m: \u001b[0m\u001b[0;32m\"openvinotoolkit/model_server\"\u001b[0m\u001b[1;39m,\n",
      "  \u001b[0m\u001b[34;1m\"type\"\u001b[0m\u001b[1;39m: \u001b[0m\u001b[0;32m\"DeleteEvent\"\u001b[0m\u001b[1;39m,\n",
      "  \u001b[0m\u001b[34;1m\"count\"\u001b[0m\u001b[1;39m: \u001b[0m\u001b[0;39m1\u001b[0m\u001b[1;39m\n",
      "\u001b[1;39m}\u001b[0m\n",
      "\u001b[1;39m{\n",
      "  \u001b[0m\u001b[34;1m\"date_utc\"\u001b[0m\u001b[1;39m: \u001b[0m\u001b[0;32m\"13-09-2021\"\u001b[0m\u001b[1;39m,\n",
      "  \u001b[0m\u001b[34;1m\"date_hr\"\u001b[0m\u001b[1;39m: \u001b[0m\u001b[0;32m\"Mon Sep 13 17:20:46 IST 2021\"\u001b[0m\u001b[1;39m,\n",
      "  \u001b[0m\u001b[34;1m\"actor_login\"\u001b[0m\u001b[1;39m: \u001b[0m\u001b[0;32m\"moises-santillan\"\u001b[0m\u001b[1;39m,\n",
      "  \u001b[0m\u001b[34;1m\"repo_name\"\u001b[0m\u001b[1;39m: \u001b[0m\u001b[0;32m\"moises-santillan/covid-19-mexico\"\u001b[0m\u001b[1;39m,\n",
      "  \u001b[0m\u001b[34;1m\"type\"\u001b[0m\u001b[1;39m: \u001b[0m\u001b[0;32m\"PushEvent\"\u001b[0m\u001b[1;39m,\n",
      "  \u001b[0m\u001b[34;1m\"count\"\u001b[0m\u001b[1;39m: \u001b[0m\u001b[0;39m1\u001b[0m\u001b[1;39m\n",
      "\u001b[1;39m}\u001b[0m\n",
      "\u001b[1;39m{\n",
      "  \u001b[0m\u001b[34;1m\"date_utc\"\u001b[0m\u001b[1;39m: \u001b[0m\u001b[0;32m\"13-09-2021\"\u001b[0m\u001b[1;39m,\n",
      "  \u001b[0m\u001b[34;1m\"date_hr\"\u001b[0m\u001b[1;39m: \u001b[0m\u001b[0;32m\"Mon Sep 13 17:20:46 IST 2021\"\u001b[0m\u001b[1;39m,\n",
      "  \u001b[0m\u001b[34;1m\"actor_login\"\u001b[0m\u001b[1;39m: \u001b[0m\u001b[0;32m\"seanforyou23\"\u001b[0m\u001b[1;39m,\n",
      "  \u001b[0m\u001b[34;1m\"repo_name\"\u001b[0m\u001b[1;39m: \u001b[0m\u001b[0;32m\"konveyor/forklift-ui\"\u001b[0m\u001b[1;39m,\n",
      "  \u001b[0m\u001b[34;1m\"type\"\u001b[0m\u001b[1;39m: \u001b[0m\u001b[0;32m\"PullRequestEvent\"\u001b[0m\u001b[1;39m,\n",
      "  \u001b[0m\u001b[34;1m\"count\"\u001b[0m\u001b[1;39m: \u001b[0m\u001b[0;39m1\u001b[0m\u001b[1;39m\n",
      "\u001b[1;39m}\u001b[0m\n"
     ]
    }
   ],
   "metadata": {}
  },
  {
   "cell_type": "markdown",
   "source": [
    "## Shell-Script"
   ],
   "metadata": {}
  },
  {
   "cell_type": "markdown",
   "source": [
    "Now, here is the example to the [shell-script](https://gist.github.com/rajkstats/41982bdd24bc68516bb53eab3a5e31e9) which was our end goal which would aggregate data on hourly granularity. Output is being written in csv format and removing double quotes. All the hourly files need to be downloaded in path being provided which would pick the files with `.gz` extension only. There is a room for lot of improvement in shell-script. A lot more structure can be provided here. Rather, treat this as a reference to get you started with `jq`."
   ],
   "metadata": {}
  },
  {
   "cell_type": "markdown",
   "source": [
    "**Snapshot of output of shell-script**"
   ],
   "metadata": {}
  },
  {
   "cell_type": "markdown",
   "source": [
    "![shell script](agg-data-with-jq/shell-script.png)"
   ],
   "metadata": {}
  },
  {
   "cell_type": "markdown",
   "source": [
    "## Next Steps\n",
    "- Ingest the hourly aggregates in a database of your choice \n",
    "- Write an airflow DAG or CRON job to monitor the ETL pipeline"
   ],
   "metadata": {}
  },
  {
   "cell_type": "markdown",
   "source": [
    "## Inspired From (Further Resources) \n",
    "- [jq Docs](https://stedolan.github.io/jq/)\n",
    "- [Gh Archive](https://www.gharchive.org/)\n",
    "- [JSON and jq](https://programminghistorian.org/en/lessons/json-and-jq#installation-on-os-x)\n"
   ],
   "metadata": {}
  }
 ],
 "metadata": {
  "kernelspec": {
   "name": "python3",
   "display_name": "Python 3.6.7 64-bit ('anaconda3': conda)"
  },
  "language_info": {
   "codemirror_mode": {
    "name": "ipython",
    "version": 3
   },
   "file_extension": ".py",
   "mimetype": "text/x-python",
   "name": "python",
   "nbconvert_exporter": "python",
   "pygments_lexer": "ipython3",
   "version": "3.6.7"
  },
  "interpreter": {
   "hash": "a7a1fc2065abc92b85d42863baff880b7fb862b74cc332143af0e042550830de"
  }
 },
 "nbformat": 4,
 "nbformat_minor": 2
}